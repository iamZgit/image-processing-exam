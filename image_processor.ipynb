{
 "cells": [
  {
   "cell_type": "code",
   "execution_count": null,
   "metadata": {},
   "outputs": [],
   "source": [
    "import cv2\n",
    "img = cv2.imread('sample.jpg', cv2.IMREAD_GRAYSCALE)\n",
    "cv2.imwrite('grayscale_sample.jpg', img)\n",
    "\n",
    "resized_img = cv2.resize(img, (100, 100))\n",
    "cv2.imwrite('resized_sample.jpg', resized_img)\n",
    "\n",
    "blurred_img = cv2.GaussianBlur(img, (5, 5), 0)\n",
    "cv2.imwrite('blurred_sample.jpg', blurred_img)\n"
   ]
  }
 ],
 "metadata": {
  "language_info": {
   "name": "python"
  }
 },
 "nbformat": 4,
 "nbformat_minor": 2
}
