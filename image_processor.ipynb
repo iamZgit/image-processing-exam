{
 "cells": [
  {
   "cell_type": "code",
   "execution_count": null,
   "metadata": {},
   "outputs": [],
   "source": [
    "import cv2\n",
    "import matplotlib.pyplot as plt\n",
    "\n",
    "img = cv2.imread('sample.jpg', cv2.IMREAD_GRAYSCALE)\n",
    "\n",
    "# Save grayscale image\n",
    "cv2.imwrite('grayscale_sample.jpg', img)\n",
    "\n",
    "# Resize the image to 100x100 and save it\n",
    "resized_img = cv2.resize(img, (100, 100))\n",
    "cv2.imwrite('resized_sample.jpg', resized_img)\n",
    "\n",
    "# Apply Gaussian blur and save the blurred image\n",
    "blurred_img = cv2.GaussianBlur(img, (5, 5), 0)\n",
    "cv2.imwrite('blurred_sample.jpg', blurred_img)\n",
    "\n",
    "# Display images\n",
    "plt.subplot(1, 3, 1), plt.imshow(img, cmap='gray'), plt.title('Grayscale')\n",
    "plt.subplot(1, 3, 2), plt.imshow(resized_img, cmap='gray'), plt.title('Resized')\n",
    "plt.subplot(1, 3, 3), plt.imshow(blurred_img, cmap='gray'), plt.title('Blurred')\n",
    "plt.show()\n"
   ]
  }
 ],
 "metadata": {
  "language_info": {
   "name": "python"
  }
 },
 "nbformat": 4,
 "nbformat_minor": 2
}
